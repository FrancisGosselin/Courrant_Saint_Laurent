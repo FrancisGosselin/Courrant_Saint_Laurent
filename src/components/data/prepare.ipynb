{
 "cells": [
  {
   "cell_type": "code",
   "execution_count": 148,
   "id": "e436c4f8",
   "metadata": {},
   "outputs": [],
   "source": [
    "import pandas as pd\n",
    "\n",
    "cur = pd.read_json(\"./mpoStleCourants_a6c0_dffb_1a94.json\")\n",
    "cur = pd.DataFrame(cur[\"table\"].rows)\n"
   ]
  },
  {
   "cell_type": "code",
   "execution_count": 149,
   "id": "8ff84e43",
   "metadata": {},
   "outputs": [],
   "source": [
    "width = len(cur[1][cur[1]==cur[1][1]])\n",
    "height = cur[1].unique().__len__()"
   ]
  },
  {
   "cell_type": "code",
   "execution_count": 150,
   "id": "c2ac2a15",
   "metadata": {},
   "outputs": [
    {
     "data": {
      "text/plain": [
       "0.003999999999999995"
      ]
     },
     "execution_count": 150,
     "metadata": {},
     "output_type": "execute_result"
    }
   ],
   "source": [
    "(cur[2].max() - cur[2].min())/width"
   ]
  },
  {
   "cell_type": "code",
   "execution_count": 151,
   "id": "f72bf689",
   "metadata": {},
   "outputs": [
    {
     "name": "stdout",
     "output_type": "stream",
     "text": [
      "Width, Height\n"
     ]
    },
    {
     "data": {
      "text/plain": [
       "(1150, 1400)"
      ]
     },
     "execution_count": 151,
     "metadata": {},
     "output_type": "execute_result"
    }
   ],
   "source": [
    "print(\"Width, Height\")\n",
    "width, height"
   ]
  },
  {
   "cell_type": "code",
   "execution_count": 152,
   "id": "1f723224",
   "metadata": {},
   "outputs": [],
   "source": [
    "import numpy as np\n",
    "cur.loc[cur[3].isna(), 3] = 0\n",
    "cur.loc[cur[4].isna(), 4] = 0\n"
   ]
  },
  {
   "cell_type": "code",
   "execution_count": null,
   "id": "e01ba2c3",
   "metadata": {},
   "outputs": [
    {
     "name": "stdout",
     "output_type": "stream",
     "text": [
      "PNG and JSON files created successfully!\n",
      "Image size: 1150 x 1400\n",
      "Image has been flipped vertically to match geographic coordinates\n"
     ]
    },
    {
     "ename": "",
     "evalue": "",
     "output_type": "error",
     "traceback": [
      "\u001b[1;31mThe Kernel crashed while executing code in the current cell or a previous cell. \n",
      "\u001b[1;31mPlease review the code in the cell(s) to identify a possible cause of the failure. \n",
      "\u001b[1;31mClick <a href='https://aka.ms/vscodeJupyterKernelCrash'>here</a> for more info. \n",
      "\u001b[1;31mView Jupyter <a href='command:jupyter.viewOutput'>log</a> for further details."
     ]
    }
   ],
   "source": [
    "from sklearn.preprocessing import minmax_scale\n",
    "import json\n",
    "from PIL import Image\n",
    "import numpy as np\n",
    "from datetime import datetime\n",
    "\n",
    "u_values = minmax_scale(cur[3])*255\n",
    "v_values = minmax_scale(cur[4])*255\n",
    "\n",
    "rgba_image = np.zeros((height, width, 4), dtype=np.uint8)\n",
    "rgba_image[:,:,0] = u_values.reshape((height, width))\n",
    "rgba_image[:,:,1] = v_values.reshape((height, width))\n",
    "rgba_image[:,:,3] = 255\n",
    "\n",
    "# Create PIL Image and save as PNG\n",
    "img = Image.fromarray(rgba_image, 'RGBA')\n",
    "img.save('current_data.png')\n",
    "\n",
    "u_min = cur[3].min()\n",
    "u_max = cur[3].max()\n",
    "v_min = cur[4].min()\n",
    "v_max = cur[4].max()\n",
    "\n",
    "latPerPixel = (cur[1].max() - cur[1].min())/height\n",
    "\n",
    "# Create JSON metadata file\n",
    "metadata = {\n",
    "    \"source\": \"Ocean currents data\",\n",
    "    \"date\": datetime.now().strftime(\"%Y-%m-%dT%H:%M:%SZ\"),\n",
    "    \"width\": width,\n",
    "    \"height\": height,\n",
    "    \"uMin\": float(u_min),\n",
    "    \"uMax\": float(u_max),\n",
    "    \"vMin\": float(v_min),\n",
    "    \"vMax\": float(v_max),\n",
    "    \"minLat\": cur[1].min() - 0.025,\n",
    "    \"maxLat\": cur[1].max() - 0.025,\n",
    "    \"minLong\": cur[2].min(),\n",
    "    \"maxLong\": cur[2].max(),\n",
    "    \"latPerPixel\": (cur[1].max() - cur[1].min())/height,\n",
    "    \"longPerPixel\": (cur[2].max() - cur[2].min())/width\n",
    "}\n",
    "\n",
    "with open('current_data.json', 'w') as f:\n",
    "    json.dump(metadata, f, indent=2)\n",
    "\n",
    "print(\"PNG and JSON files created successfully!\")\n",
    "print(f\"Image size: {width} x {height}\")\n",
    "print(\"Image has been flipped vertically to match geographic coordinates\")"
   ]
  },
  {
   "cell_type": "code",
   "execution_count": 143,
   "id": "06659c4e",
   "metadata": {},
   "outputs": [
    {
     "data": {
      "text/plain": [
       "0.0"
      ]
     },
     "execution_count": 143,
     "metadata": {},
     "output_type": "execute_result"
    }
   ],
   "source": [
    "u_values.min()"
   ]
  },
  {
   "cell_type": "code",
   "execution_count": null,
   "id": "7fc549cd",
   "metadata": {},
   "outputs": [],
   "source": []
  }
 ],
 "metadata": {
  "kernelspec": {
   "display_name": "Python 3",
   "language": "python",
   "name": "python3"
  },
  "language_info": {
   "codemirror_mode": {
    "name": "ipython",
    "version": 3
   },
   "file_extension": ".py",
   "mimetype": "text/x-python",
   "name": "python",
   "nbconvert_exporter": "python",
   "pygments_lexer": "ipython3",
   "version": "3.8.8"
  }
 },
 "nbformat": 4,
 "nbformat_minor": 5
}

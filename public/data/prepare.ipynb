{
 "cells": [
  {
   "cell_type": "code",
   "execution_count": 11,
   "id": "80ih0rsi6py",
   "metadata": {},
   "outputs": [],
   "source": [
    "def lat_coord_to_canvas_coord(lat):\n",
    "    \n",
    "    # Convert latitude using Web Mercator transformation\n",
    "    lat_rad = math.radians(lat)\n",
    "    y = 0.5 - math.log(math.tan(math.pi/4.0 + lat_rad/2.0)) / (2.0 * math.pi)\n",
    "    \n",
    "    return  y"
   ]
  },
  {
   "cell_type": "code",
   "execution_count": 15,
   "id": "yx7p7xhbsx",
   "metadata": {},
   "outputs": [
    {
     "name": "stdout",
     "output_type": "stream",
     "text": [
      "Testing yToLatitude function:\n",
      "y=0.0 -> lat=85.05°\n",
      "y=0.5 -> lat=0.00°\n",
      "y=1.0 -> lat=-85.05°\n"
     ]
    }
   ],
   "source": [
    "import numpy as np\n",
    "import math\n",
    "\n",
    "def yToLatitude(y):\n",
    "    \"\"\"\n",
    "    Convert normalized Y coordinate (0-1) back to latitude (-90 to 90) using inverse Web Mercator\n",
    "    \n",
    "    Args:\n",
    "        y: Normalized Y coordinate (0-1)\n",
    "    \n",
    "    Returns:\n",
    "        Latitude in degrees\n",
    "    \"\"\"\n",
    "    # Inverse Web Mercator transformation\n",
    "    mercator_y = (0.5 - y) * 2.0 * math.pi  # Convert 0-1 to mercator Y range\n",
    "    lat_rad = 2.0 * math.atan(math.exp(mercator_y)) - math.pi/2.0  # Inverse mercator formula\n",
    "    return math.degrees(lat_rad)  # Convert radians to degrees\n",
    "\n",
    "# Test the function\n",
    "print(\"Testing yToLatitude function:\")\n",
    "print(f\"y=0.0 -> lat={yToLatitude(0.0):.2f}°\")\n",
    "print(f\"y=0.5 -> lat={yToLatitude(0.5):.2f}°\") \n",
    "print(f\"y=1.0 -> lat={yToLatitude(1.0):.2f}°\")\n",
    "\n",
    "def xToLongitude(x):\n",
    "    return (x*360) - 180"
   ]
  },
  {
   "cell_type": "code",
   "execution_count": null,
   "id": "e436c4f8",
   "metadata": {},
   "outputs": [],
   "source": [
    "import pandas as pd\n",
    "\n",
    "map_index = 0\n",
    "\n",
    "cur = pd.read_json(f\"./mpoStleCourants_{map_index}.json\")\n",
    "cur = pd.DataFrame(cur[\"table\"].rows)\n"
   ]
  },
  {
   "cell_type": "code",
   "execution_count": 34,
   "id": "1f723224",
   "metadata": {},
   "outputs": [],
   "source": [
    "import numpy as np\n",
    "null_indices = cur.loc[cur[4].isna() & cur[3].isna()]\n",
    "cur.loc[cur[3].isna(), 3] = 0\n",
    "cur.loc[cur[4].isna(), 4] = 0\n"
   ]
  },
  {
   "cell_type": "code",
   "execution_count": null,
   "id": "e01ba2c3",
   "metadata": {},
   "outputs": [
    {
     "name": "stdout",
     "output_type": "stream",
     "text": [
      "PNG and JSON files created successfully!\n",
      "Image size: 1150 x 1400\n",
      "Image has been flipped vertically to match geographic coordinates\n"
     ]
    }
   ],
   "source": [
    "from sklearn.preprocessing import minmax_scale\n",
    "import json\n",
    "from PIL import Image\n",
    "import numpy as np\n",
    "from datetime import datetime\n",
    "\n",
    "u_values = minmax_scale(cur[3])*255\n",
    "v_values = minmax_scale(cur[4])*255\n",
    "transparency_values = np.full_like(cur[3], 60)\n",
    "transparency_values[null_indices.index] = 0.\n",
    "\n",
    "rgba_image = np.zeros((height, width, 4), dtype=np.uint8)\n",
    "rgba_image[:,:,0] = u_values.reshape((height, width))\n",
    "rgba_image[:,:,1] = v_values.reshape((height, width))\n",
    "rgba_image[:,:,3] = transparency_values.reshape((height, width))\n",
    "\n",
    "# Create PIL Image and save as PNG\n",
    "img = Image.fromarray(rgba_image, 'RGBA')\n",
    "img.save(f'current_data_{map_index}.png')\n",
    "\n",
    "u_min = cur[3].min()\n",
    "u_max = cur[3].max()\n",
    "v_min = cur[4].min()\n",
    "v_max = cur[4].max()\n",
    "\n",
    "# Create JSON metadata file\n",
    "metadata = {\n",
    "    \"source\": \"Ocean currents data\",\n",
    "    \"date\": datetime.now().strftime(\"%Y-%m-%dT%H:%M:%SZ\"),\n",
    "    \"width\": width,\n",
    "    \"height\": height,\n",
    "    \"uMin\": float(u_min),\n",
    "    \"uMax\": float(u_max),\n",
    "    \"vMin\": float(v_min),\n",
    "    \"vMax\": float(v_max),\n",
    "    \"minLat\": cur[1].min(),\n",
    "    \"maxLat\": cur[1].max(),\n",
    "    \"latPerPixel\": (cur[1].max() - cur[1].min())/height,\n",
    "    \"minLong\": cur[2].min(),\n",
    "    \"maxLong\": cur[2].max(),\n",
    "    \"longPerPixel\": (cur[2].max() - cur[2].min())/width\n",
    "}\n",
    "\n",
    "with open(f'current_data_{map_index}.json', 'w') as f:\n",
    "    json.dump(metadata, f, indent=2)\n",
    "\n",
    "print(\"PNG and JSON files created successfully!\")\n",
    "print(f\"Image size: {width} x {height}\")\n",
    "print(\"Image has been flipped vertically to match geographic coordinates\")"
   ]
  },
  {
   "cell_type": "code",
   "execution_count": 36,
   "id": "4efcd2b8",
   "metadata": {},
   "outputs": [
    {
     "name": "stdout",
     "output_type": "stream",
     "text": [
      "Testing FIXED equirectangular to mercator conversion...\n",
      "Converting 1150x1400 image from equirectangular to mercator\n",
      "Bounds: lng(-72.600, -68.000) lat(46.000, 49.500)\n",
      "Fixed mercator image saved with dimensions: (1150, 1400)\n"
     ]
    }
   ],
   "source": [
    "def equirectangular_to_mercator_fixed(equirect_array, min_lng, max_lng, min_lat, max_lat):\n",
    "    \"\"\"\n",
    "    Transform an equirectangular projection image to Web Mercator projection\n",
    "    Fixed version with correct Y-coordinate handling\n",
    "    \"\"\"\n",
    "    height, width, _ = equirect_array.shape\n",
    "    mercator_array = np.zeros_like(equirect_array)\n",
    "\n",
    "    print(f\"Converting {width}x{height} image from equirectangular to mercator\")\n",
    "    print(f\"Bounds: lng({min_lng:.3f}, {max_lng:.3f}) lat({min_lat:.3f}, {max_lat:.3f})\")\n",
    "\n",
    "\n",
    "    min_lat_norm = lat_coord_to_canvas_coord( min_lat)\n",
    "    max_lat_norm = lat_coord_to_canvas_coord( max_lat)\n",
    "\n",
    "    def mix(a,b,c):\n",
    "        return  a * (1.0 - c) + b * c\n",
    "\n",
    "    # For each pixel in the output Mercator image\n",
    "    for y in range(height):\n",
    "        \n",
    "        for x in range(width):\n",
    "            # Convert pixel coordinates to normalized coordinates (0-1)\n",
    "            norm_x = x / width\n",
    "            norm_y = y / height\n",
    "\n",
    "            norm_y = mix(min_lat_norm, max_lat_norm, norm_y)\n",
    "\n",
    "            # In Mercator image: y=0 should be north (max_lat), y=1 should be south (min_lat)\n",
    "            # Convert normalized y to latitude using inverse Web Mercator\n",
    "            mercator_y = (0.5 - norm_y) * 2.0 * math.pi\n",
    "            merc_lat_rad = 2.0 * math.atan(math.exp(mercator_y)) - math.pi/2.0\n",
    "            merc_lat = math.degrees(merc_lat_rad)\n",
    "\n",
    "            # Convert normalized x to longitude (linear)\n",
    "            merc_lng = min_lng + norm_x * (max_lng - min_lng)\n",
    "\n",
    "            # Clamp to data bounds\n",
    "            # merc_lat = max(min_lat, min(max_lat, merc_lat))\n",
    "            # merc_lng = max(min_lng, min(max_lng, merc_lng))\n",
    "\n",
    "            pixelY = ((merc_lat - min_lat) / (max_lat - min_lat))*height\n",
    "            pixelX = ((merc_lng - min_lng) / (max_lng - min_lng))*width\n",
    "            \n",
    "            mercator_array[y, x] = equirect_array[int(pixelY), int(pixelX)]\n",
    "    return Image.fromarray(mercator_array, 'RGBA')\n",
    "\n",
    "# Test the fixed function\n",
    "print(\"Testing FIXED equirectangular to mercator conversion...\")\n",
    "mercator_img_fixed = equirectangular_to_mercator_fixed(\n",
    "    rgba_image,\n",
    "    cur[2].min(), cur[2].max(),  # min_lng, max_lng\n",
    "    cur[1].min(), cur[1].max()   # min_lat, max_lat\n",
    ")\n",
    "mercator_img_fixed.save('current_data_4.png')\n",
    "print(f\"Fixed mercator image saved with dimensions: {mercator_img_fixed.size}\")"
   ]
  },
  {
   "cell_type": "code",
   "execution_count": null,
   "id": "e30d0684",
   "metadata": {},
   "outputs": [
    {
     "ename": "TypeError",
     "evalue": "sequence index must be integer, not 'tuple'",
     "output_type": "error",
     "traceback": [
      "\u001b[1;31m---------------------------------------------------------------------------\u001b[0m",
      "\u001b[1;31mTypeError\u001b[0m                                 Traceback (most recent call last)",
      "\u001b[1;32m<ipython-input-13-947bf60338ae>\u001b[0m in \u001b[0;36m<module>\u001b[1;34m\u001b[0m\n\u001b[1;32m----> 1\u001b[1;33m \u001b[0mmercator_img_fixed\u001b[0m\u001b[1;33m.\u001b[0m\u001b[0mim\u001b[0m\u001b[1;33m[\u001b[0m\u001b[1;36m0\u001b[0m\u001b[1;33m,\u001b[0m\u001b[1;36m0\u001b[0m\u001b[1;33m]\u001b[0m\u001b[1;33m\u001b[0m\u001b[1;33m\u001b[0m\u001b[0m\n\u001b[0m",
      "\u001b[1;31mTypeError\u001b[0m: sequence index must be integer, not 'tuple'"
     ]
    }
   ],
   "source": []
  },
  {
   "cell_type": "code",
   "execution_count": null,
   "id": "26091084",
   "metadata": {},
   "outputs": [],
   "source": []
  }
 ],
 "metadata": {
  "kernelspec": {
   "display_name": "Python 3",
   "language": "python",
   "name": "python3"
  },
  "language_info": {
   "codemirror_mode": {
    "name": "ipython",
    "version": 3
   },
   "file_extension": ".py",
   "mimetype": "text/x-python",
   "name": "python",
   "nbconvert_exporter": "python",
   "pygments_lexer": "ipython3",
   "version": "3.8.8"
  }
 },
 "nbformat": 4,
 "nbformat_minor": 5
}
